{
 "cells": [
  {
   "cell_type": "code",
   "execution_count": 1,
   "metadata": {},
   "outputs": [],
   "source": [
    "import torch\n",
    "import torch.nn as nn\n",
    "import torch.nn.functional as F\n",
    "\n",
    "import numpy as np\n",
    "import pandas as pd\n",
    "import matplotlib.pyplot as plt"
   ]
  },
  {
   "cell_type": "code",
   "execution_count": 2,
   "metadata": {},
   "outputs": [],
   "source": [
    "class NeuralNetwork(nn.Module):\n",
    "\n",
    "    def __init__(self):\n",
    "        super(NeuralNetwork, self).__init__()\n",
    "\n",
    "        self.fc1 = nn.Linear(13, 50)\n",
    "        self.fc2 = nn.Linear(50, 50)\n",
    "        self.fc3 = nn.Linear(50, 50)\n",
    "#         self.fc4 = nn.Linear(1000, 1000)\n",
    "#         self.fc5 = nn.Linear(1000, 1000)\n",
    "#         self.fc6 = nn.Linear(1000, 1000)\n",
    "#         self.fc7 = nn.Linear(1000, 1000)\n",
    "#         self.fc8 = nn.Linear(1000, 1000)\n",
    "#         self.fc9 = nn.Linear(1000, 1000)\n",
    "#         self.fc10 = nn.Linear(1000, 1000)\n",
    "\n",
    "        self.fc11 = nn.Linear(50, 1)\n",
    "\n",
    "    def forward(self, x, activation):\n",
    "        x = activation(self.fc1(x))\n",
    "        x = activation(self.fc2(x))\n",
    "        x = activation(self.fc3(x))\n",
    "#         x = activation(self.fc4(x))\n",
    "#         x = activation(self.fc5(x))\n",
    "#         x = activation(self.fc6(x))\n",
    "#         x = activation(self.fc7(x))\n",
    "#         x = activation(self.fc8(x))\n",
    "#         x = activation(self.fc9(x))\n",
    "#         x = activation(self.fc10(x))\n",
    "        \n",
    "        x = self.fc11(x)\n",
    "        return x;"
   ]
  },
  {
   "cell_type": "code",
   "execution_count": 3,
   "metadata": {},
   "outputs": [],
   "source": [
    "def get_losses(x, y, activation, epochs):\n",
    "    losses = []\n",
    "    torch.manual_seed(0)\n",
    "    net = NeuralNetwork()\n",
    "        \n",
    "    y = torch.tensor(y, dtype=torch.float)\n",
    "    x = torch.tensor(x, dtype=torch.float)\n",
    "    \n",
    "#     y = torch.tensor([[24.00]], dtype=torch.float)\n",
    "#     x = torch.tensor([[0.00632, 18.00,2.310, 0, 0.5380, 6.5750, 65.20, 4.0900, 1, 296.0, 15., 396.90, 4.98 ]], dtype=torch.float)\n",
    "    \n",
    "    \n",
    "    criterion  = nn.MSELoss()\n",
    "    optimizer = torch.optim.Adam(net.parameters(), lr=0.001)\n",
    "\n",
    "    for i in range(epochs):\n",
    "\n",
    "        output = net(x, activation)\n",
    "\n",
    "        optimizer.zero_grad()\n",
    "        loss = criterion(output, y) \n",
    "        loss.backward()\n",
    "        optimizer.step()\n",
    "        \n",
    "        losses.append(loss)\n",
    "#         print(output)\n",
    "#         print(\"epoch: {}, error: {}\".format(i, loss))\n",
    "#     print(\"next\")\n",
    "    return losses"
   ]
  },
  {
   "cell_type": "code",
   "execution_count": 4,
   "metadata": {},
   "outputs": [],
   "source": [
    "dataframe = pd.read_csv(\"data/housing.csv\", delim_whitespace=True, header=None)\n",
    "dataset = dataframe.values\n",
    "\n",
    "X = dataset[:,0:13]\n",
    "Y = dataset[:,13:14]"
   ]
  },
  {
   "cell_type": "code",
   "execution_count": 5,
   "metadata": {},
   "outputs": [
    {
     "name": "stdout",
     "output_type": "stream",
     "text": [
      "sigmoid loss: 84.4205322265625\n",
      "tanh loss: 35.14045333862305\n",
      "ReLU loss: 8.290190696716309\n",
      "Leaky ReLU loss: 9.128073692321777\n",
      "ELU loss: 7.2334065437316895\n"
     ]
    }
   ],
   "source": [
    "n_epochs = 1000\n",
    "\n",
    "sigmoid_losses = get_losses(X, Y, nn.Sigmoid(), n_epochs)\n",
    "print(\"sigmoid loss: {}\".format(sigmoid_losses[-1]))\n",
    "\n",
    "tanh_losses = get_losses(X, Y, nn.Tanh(), n_epochs)\n",
    "print(\"tanh loss: {}\".format(tanh_losses[-1]))\n",
    "\n",
    "relu_losses = get_losses(X, Y, nn.ReLU(), n_epochs)\n",
    "print(\"ReLU loss: {}\".format(relu_losses[-1]))\n",
    "\n",
    "leaky_relu_losses = get_losses(X, Y, nn.LeakyReLU(0.1), n_epochs)\n",
    "print(\"Leaky ReLU loss: {}\".format(leaky_relu_losses[-1]))\n",
    "\n",
    "ELU_losses = get_losses(X, Y, nn.ELU(), n_epochs)\n",
    "print(\"ELU loss: {}\".format(ELU_losses[-1]))"
   ]
  },
  {
   "cell_type": "code",
   "execution_count": 6,
   "metadata": {},
   "outputs": [
    {
     "data": {
      "image/png": "[encoded data removed]",
      "text/plain": [
       "<Figure size 432x288 with 1 Axes>"
      ]
     },
     "metadata": {},
     "output_type": "display_data"
    }
   ],
   "source": [
    "epochs = range(n_epochs)\n",
    "plt.plot( \n",
    "    epochs, sigmoid_losses,\n",
    "    epochs, tanh_losses,\n",
    "    epochs, relu_losses,\n",
    "    epochs, leaky_relu_losses,\n",
    "    epochs, ELU_losses)\n",
    "plt.legend([\"sigmoid\", \"tanh\", \"relu\", \"Leaky ReLU\", \"ELU\"])\n",
    "plt.yscale('log')"
   ]
  },
  {
   "cell_type": "code",
   "execution_count": null,
   "metadata": {},
   "outputs": [],
   "source": []
  }
 ],
 "metadata": {
  "kernelspec": {
   "display_name": "Python 3",
   "language": "python",
   "name": "python3"
  },
  "language_info": {
   "codemirror_mode": {
    "name": "ipython",
    "version": 3
   },
   "file_extension": ".py",
   "mimetype": "text/x-python",
   "name": "python",
   "nbconvert_exporter": "python",
   "pygments_lexer": "ipython3",
   "version": "3.5.2"
  }
 },
 "nbformat": 4,
 "nbformat_minor": 2
}
