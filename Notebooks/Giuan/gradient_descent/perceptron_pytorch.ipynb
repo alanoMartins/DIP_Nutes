{
 "cells": [
  {
   "cell_type": "code",
   "execution_count": 21,
   "metadata": {},
   "outputs": [],
   "source": [
    "import torch"
   ]
  },
  {
   "cell_type": "code",
   "execution_count": 22,
   "metadata": {},
   "outputs": [],
   "source": [
    "criterion = torch.nn.MSELoss(size_average=False)\n",
    "activation_f = torch.nn.Sigmoid()\n",
    "lr = 0.1"
   ]
  },
  {
   "cell_type": "code",
   "execution_count": 23,
   "metadata": {},
   "outputs": [],
   "source": [
    "inputs = torch.FloatTensor([[1.,1.]])\n",
    "y = torch.FloatTensor([[1.]])\n"
   ]
  },
  {
   "cell_type": "code",
   "execution_count": 24,
   "metadata": {},
   "outputs": [],
   "source": [
    "# weights = torch.randn(1, 2, requires_grad=True)\n",
    "weights = torch.tensor([[-0.6802,  0.3396]], requires_grad=True)"
   ]
  },
  {
   "cell_type": "code",
   "execution_count": 25,
   "metadata": {},
   "outputs": [
    {
     "name": "stdout",
     "output_type": "stream",
     "text": [
      "tensor(0.3414)\n"
     ]
    }
   ],
   "source": [
    "# for i in range(100):\n",
    "output = torch.mm(weights, inputs.t())\n",
    "output = activation_f( output.float() )\n",
    "loss = criterion(output,y)\n",
    "print(loss)\n",
    "\n",
    "loss.backward(retain_graph=True)\n",
    "\n",
    "with torch.no_grad():\n",
    "    weights -= weights.grad * lr \n",
    "    weights.grad.zero_()"
   ]
  },
  {
   "cell_type": "code",
   "execution_count": null,
   "metadata": {},
   "outputs": [],
   "source": []
  }
 ],
 "metadata": {
  "kernelspec": {
   "display_name": "Python 3",
   "language": "python",
   "name": "python3"
  }
 },
 "nbformat": 4,
 "nbformat_minor": 2
}
