{
 "cells": [
  {
   "cell_type": "code",
   "execution_count": 1,
   "metadata": {},
   "outputs": [],
   "source": [
    "import matplotlib.pyplot as plt"
   ]
  },
  {
   "cell_type": "code",
   "execution_count": 2,
   "metadata": {},
   "outputs": [],
   "source": [
    "def function(x):\n",
    "    return x**2\n",
    "def derivate_of_function(x):\n",
    "    return 2*x\n",
    "\n",
    "lr = 0.3\n",
    "\n",
    "axes = list(range(-10, 11))\n",
    "fx   = [function(x) for x in axes ]\n"
   ]
  },
  {
   "cell_type": "code",
   "execution_count": 7,
   "metadata": {},
   "outputs": [],
   "source": [
    "x_history = []\n",
    "x = 9 #initial value (weight)\n",
    "n = 2"
   ]
  },
  {
   "cell_type": "code",
   "execution_count": 8,
   "metadata": {},
   "outputs": [
    {
     "name": "stdout",
     "output_type": "stream",
     "text": [
      "gradient: -5.3999999999999995\n",
      "weight: 9\n",
      "loss: 81\n",
      "gradient: -2.16\n",
      "weight: 3.6000000000000005\n",
      "loss: 12.960000000000004\n"
     ]
    },
    {
     "data": {
      "image/png": "[encoded data removed]",
      "text/plain": [
       "<Figure size 432x288 with 1 Axes>"
      ]
     },
     "metadata": {},
     "output_type": "display_data"
    }
   ],
   "source": [
    "for i in range(n):\n",
    "    gradient = (derivate_of_function(x) *-1) * lr\n",
    "    loss = function(x)\n",
    "    print(\"gradient: {}\".format(gradient))\n",
    "    print(\"weight: {}\".format(x))\n",
    "    print(\"loss: {}\".format(loss))\n",
    "    x_history.append(x)\n",
    "    #x = x - ( f'(x) * -1)\n",
    "    x += gradient\n",
    "\n",
    "\n",
    "fx_history = [function(g) for g in x_history]\n",
    "\n",
    "plt.plot(axes, fx)\n",
    "plt.plot(x_history, fx_history , 'co')\n",
    "plt.show()"
   ]
  },
  {
   "cell_type": "code",
   "execution_count": 5,
   "metadata": {},
   "outputs": [],
   "source": [
    "# SGD\n",
    "# [1,1]\n",
    "# train\n",
    "# [1,0]\n",
    "# train\n",
    "# [0,0]\n",
    "# train\n",
    "# [0,1]\n",
    "# train"
   ]
  },
  {
   "cell_type": "code",
   "execution_count": 6,
   "metadata": {},
   "outputs": [],
   "source": [
    "# mini-batch SGD\n",
    "# [1,1]\n",
    "# [1,0]\n",
    "# train\n",
    "# [0,0]\n",
    "# [0,1]\n",
    "# train"
   ]
  }
 ],
 "metadata": {
  "kernelspec": {
   "display_name": "Python 3",
   "language": "python",
   "name": "python3"
  },
  "language_info": {
   "codemirror_mode": {
    "name": "ipython",
    "version": 3
   },
   "file_extension": ".py",
   "mimetype": "text/x-python",
   "name": "python",
   "nbconvert_exporter": "python",
   "pygments_lexer": "ipython3",
   "version": "3.5.2"
  }
 },
 "nbformat": 4,
 "nbformat_minor": 2
}
